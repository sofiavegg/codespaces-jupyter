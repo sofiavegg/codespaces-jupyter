{
 "cells": [
  {
   "cell_type": "code",
   "execution_count": null,
   "metadata": {},
   "outputs": [],
   "source": [
    "x=int(input())\n",
    "y=int(input())\n",
    "if x>=y:\n",
    "    print(\"El primer numero es mayor\")\n",
    "else:\n",
    "    print(\"El segundo numero es mayor\")"
   ]
  }
 ],
 "metadata": {
  "language_info": {
   "name": "python"
  }
 },
 "nbformat": 4,
 "nbformat_minor": 2
}
